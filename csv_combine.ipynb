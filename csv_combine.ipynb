{
 "cells": [
  {
   "cell_type": "code",
   "execution_count": 68,
   "metadata": {},
   "outputs": [],
   "source": [
    "import os\n",
    "import glob\n",
    "import pandas as pd\n",
    "os.chdir(r'C:\\Users\\n_kudinova\\Downloads\\jb-bi-team-homework-master\\settlement')"
   ]
  },
  {
   "cell_type": "code",
   "execution_count": 69,
   "metadata": {},
   "outputs": [],
   "source": [
    "extension = 'csv'\n",
    "all_filenames = [i for i in glob.glob('*.{}'.format(extension))]"
   ]
  },
  {
   "cell_type": "code",
   "execution_count": 74,
   "metadata": {},
   "outputs": [
    {
     "name": "stderr",
     "output_type": "stream",
     "text": [
      "C:\\Users\\n_kudinova\\Anaconda3\\lib\\site-packages\\ipykernel_launcher.py:2: ParserWarning: Falling back to the 'python' engine because the 'c' engine does not support regex separators (separators > 1 char and different from '\\s+' are interpreted as regex); you can avoid this warning by specifying engine='python'.\n",
      "  \n"
     ]
    }
   ],
   "source": [
    "#combine all files in the list\n",
    "combined_csv = pd.concat([pd.read_csv(f, sep='\\;') for f in all_filenames ])\n"
   ]
  },
  {
   "cell_type": "code",
   "execution_count": 75,
   "metadata": {},
   "outputs": [
    {
     "data": {
      "text/html": [
       "<div>\n",
       "<style scoped>\n",
       "    .dataframe tbody tr th:only-of-type {\n",
       "        vertical-align: middle;\n",
       "    }\n",
       "\n",
       "    .dataframe tbody tr th {\n",
       "        vertical-align: top;\n",
       "    }\n",
       "\n",
       "    .dataframe thead th {\n",
       "        text-align: right;\n",
       "    }\n",
       "</style>\n",
       "<table border=\"1\" class=\"dataframe\">\n",
       "  <thead>\n",
       "    <tr style=\"text-align: right;\">\n",
       "      <th></th>\n",
       "      <th>COMPANY_ACCOUNT</th>\n",
       "      <th>MERCHANT_ACCOUNT</th>\n",
       "      <th>BATCH_NUMBER</th>\n",
       "      <th>PSP_REFERENCE</th>\n",
       "      <th>ORDER_REF</th>\n",
       "      <th>PAYMENT_METHOD</th>\n",
       "      <th>DATE</th>\n",
       "      <th>TIMEZONE</th>\n",
       "      <th>TYPE</th>\n",
       "      <th>MODIFICATION_REFERENCE</th>\n",
       "      <th>CURRENCY</th>\n",
       "      <th>NET</th>\n",
       "      <th>FEE</th>\n",
       "      <th>GROSS</th>\n",
       "    </tr>\n",
       "  </thead>\n",
       "  <tbody>\n",
       "    <tr>\n",
       "      <th>0</th>\n",
       "      <td>JetBrains</td>\n",
       "      <td>JetBrainsAmericasUSD</td>\n",
       "      <td>138</td>\n",
       "      <td>164B5881A9424333</td>\n",
       "      <td>C000082067</td>\n",
       "      <td>mc</td>\n",
       "      <td>2018-03-06</td>\n",
       "      <td>UTC</td>\n",
       "      <td>Settled</td>\n",
       "      <td>C9F0DB01DBB2436D</td>\n",
       "      <td>USD</td>\n",
       "      <td>179.0</td>\n",
       "      <td>9.0</td>\n",
       "      <td>188.0</td>\n",
       "    </tr>\n",
       "    <tr>\n",
       "      <th>1</th>\n",
       "      <td>JetBrains</td>\n",
       "      <td>JetBrainsAmericasUSD</td>\n",
       "      <td>138</td>\n",
       "      <td>8449199553C34DDF</td>\n",
       "      <td>R000027688</td>\n",
       "      <td>visa</td>\n",
       "      <td>2018-03-10</td>\n",
       "      <td>UTC</td>\n",
       "      <td>Settled</td>\n",
       "      <td>D3BC4660F80F41F2</td>\n",
       "      <td>USD</td>\n",
       "      <td>855.0</td>\n",
       "      <td>45.0</td>\n",
       "      <td>900.0</td>\n",
       "    </tr>\n",
       "    <tr>\n",
       "      <th>2</th>\n",
       "      <td>JetBrains</td>\n",
       "      <td>JetBrainsAmericasUSD</td>\n",
       "      <td>138</td>\n",
       "      <td>50ACC52DD3CE4188</td>\n",
       "      <td>R000018420</td>\n",
       "      <td>visa</td>\n",
       "      <td>2018-02-20</td>\n",
       "      <td>UTC</td>\n",
       "      <td>Settled</td>\n",
       "      <td>9FB95EC6574140C4</td>\n",
       "      <td>USD</td>\n",
       "      <td>380.0</td>\n",
       "      <td>20.0</td>\n",
       "      <td>400.0</td>\n",
       "    </tr>\n",
       "    <tr>\n",
       "      <th>3</th>\n",
       "      <td>JetBrains</td>\n",
       "      <td>JetBrainsAmericasUSD</td>\n",
       "      <td>138</td>\n",
       "      <td>0BBE28B549104252</td>\n",
       "      <td>E000104693</td>\n",
       "      <td>mc</td>\n",
       "      <td>2018-03-09</td>\n",
       "      <td>UTC</td>\n",
       "      <td>Settled</td>\n",
       "      <td>7980F223FEF84B39</td>\n",
       "      <td>USD</td>\n",
       "      <td>93.0</td>\n",
       "      <td>5.0</td>\n",
       "      <td>98.0</td>\n",
       "    </tr>\n",
       "    <tr>\n",
       "      <th>4</th>\n",
       "      <td>JetBrains</td>\n",
       "      <td>JetBrainsAmericasUSD</td>\n",
       "      <td>138</td>\n",
       "      <td>90F8A53DF87349E2</td>\n",
       "      <td>C000216746</td>\n",
       "      <td>visa</td>\n",
       "      <td>2018-01-11</td>\n",
       "      <td>UTC</td>\n",
       "      <td>Settled</td>\n",
       "      <td>843F4138341047D7</td>\n",
       "      <td>USD</td>\n",
       "      <td>333.0</td>\n",
       "      <td>17.0</td>\n",
       "      <td>350.0</td>\n",
       "    </tr>\n",
       "  </tbody>\n",
       "</table>\n",
       "</div>"
      ],
      "text/plain": [
       "  COMPANY_ACCOUNT      MERCHANT_ACCOUNT  BATCH_NUMBER     PSP_REFERENCE  \\\n",
       "0       JetBrains  JetBrainsAmericasUSD           138  164B5881A9424333   \n",
       "1       JetBrains  JetBrainsAmericasUSD           138  8449199553C34DDF   \n",
       "2       JetBrains  JetBrainsAmericasUSD           138  50ACC52DD3CE4188   \n",
       "3       JetBrains  JetBrainsAmericasUSD           138  0BBE28B549104252   \n",
       "4       JetBrains  JetBrainsAmericasUSD           138  90F8A53DF87349E2   \n",
       "\n",
       "    ORDER_REF PAYMENT_METHOD        DATE TIMEZONE     TYPE  \\\n",
       "0  C000082067             mc  2018-03-06      UTC  Settled   \n",
       "1  R000027688           visa  2018-03-10      UTC  Settled   \n",
       "2  R000018420           visa  2018-02-20      UTC  Settled   \n",
       "3  E000104693             mc  2018-03-09      UTC  Settled   \n",
       "4  C000216746           visa  2018-01-11      UTC  Settled   \n",
       "\n",
       "  MODIFICATION_REFERENCE CURRENCY    NET   FEE  GROSS  \n",
       "0       C9F0DB01DBB2436D      USD  179.0   9.0  188.0  \n",
       "1       D3BC4660F80F41F2      USD  855.0  45.0  900.0  \n",
       "2       9FB95EC6574140C4      USD  380.0  20.0  400.0  \n",
       "3       7980F223FEF84B39      USD   93.0   5.0   98.0  \n",
       "4       843F4138341047D7      USD  333.0  17.0  350.0  "
      ]
     },
     "execution_count": 75,
     "metadata": {},
     "output_type": "execute_result"
    }
   ],
   "source": [
    "combined_csv.head()"
   ]
  },
  {
   "cell_type": "code",
   "execution_count": 76,
   "metadata": {},
   "outputs": [],
   "source": [
    "combined_csv.to_csv( \"combined_csv.csv\", index=False)"
   ]
  },
  {
   "cell_type": "code",
   "execution_count": 77,
   "metadata": {},
   "outputs": [
    {
     "data": {
      "text/plain": [
       "(373042, 14)"
      ]
     },
     "execution_count": 77,
     "metadata": {},
     "output_type": "execute_result"
    }
   ],
   "source": [
    "combined_csv.shape"
   ]
  },
  {
   "cell_type": "code",
   "execution_count": null,
   "metadata": {},
   "outputs": [],
   "source": []
  }
 ],
 "metadata": {
  "kernelspec": {
   "display_name": "Python 3",
   "language": "python",
   "name": "python3"
  },
  "language_info": {
   "codemirror_mode": {
    "name": "ipython",
    "version": 3
   },
   "file_extension": ".py",
   "mimetype": "text/x-python",
   "name": "python",
   "nbconvert_exporter": "python",
   "pygments_lexer": "ipython3",
   "version": "3.7.6"
  }
 },
 "nbformat": 4,
 "nbformat_minor": 4
}
